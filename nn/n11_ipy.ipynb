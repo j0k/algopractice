{
 "cells": [
  {
   "cell_type": "code",
   "execution_count": 2,
   "metadata": {
    "collapsed": true
   },
   "outputs": [],
   "source": [
    "import random\n",
    "import numpy as np\n",
    "import math"
   ]
  },
  {
   "cell_type": "code",
   "execution_count": 3,
   "metadata": {
    "collapsed": true
   },
   "outputs": [],
   "source": [
    "# time: 13:26\n",
    "# stoping: 14:00\n",
    "# end stop: 15:00\n",
    "# end: 15:10\n",
    "# total : 44m"
   ]
  },
  {
   "cell_type": "code",
   "execution_count": 10,
   "metadata": {},
   "outputs": [
    {
     "data": {
      "text/plain": [
       "[(array([0, 0]), array([0, 0])),\n",
       " (array([1, 1]), array([1, 1])),\n",
       " (array([1, 0]), array([0, 1])),\n",
       " (array([0, 1]), array([1, 0])),\n",
       " (array([1, 0]), array([0, 1]))]"
      ]
     },
     "execution_count": 10,
     "metadata": {},
     "output_type": "execute_result"
    }
   ],
   "source": [
    "def genData(n,l):\n",
    "    rotL = lambda x: x[1:] + [x[0]]\n",
    "    rand = lambda x: map(lambda y: random.choice([0,1]), range(l))\n",
    "    \n",
    "    x = map(rand, range(n))\n",
    "    y = map(rotL, x)\n",
    "    \n",
    "    x = map(np.array, x)\n",
    "    y = map(np.array, y)\n",
    "    \n",
    "    return zip(x,y)\n",
    "\n",
    "genData(5,2)"
   ]
  },
  {
   "cell_type": "code",
   "execution_count": 31,
   "metadata": {},
   "outputs": [
    {
     "name": "stdout",
     "output_type": "stream",
     "text": [
      "ll = [2, 3, 2]\n",
      "x = [1 0],  y = [0 1], out = [ 0.05  0.96], e = 0.0625973136266\n",
      "x = [0 1],  y = [1 0], out = [ 0.96  0.04], e = 0.0577703900857\n",
      "x = [1 1],  y = [1 1], out = [ 0.97  0.97], e = 0.0449115851178\n",
      "x = [1 1],  y = [1 1], out = [ 0.97  0.97], e = 0.0449115851178\n",
      "x = [1 1],  y = [1 1], out = [ 0.97  0.97], e = 0.0449115851178\n",
      "x = [0 1],  y = [1 0], out = [ 0.96  0.04], e = 0.0577703900857\n",
      "x = [1 0],  y = [0 1], out = [ 0.05  0.96], e = 0.0625973136266\n",
      "x = [0 0],  y = [0 0], out = [ 0.03  0.03], e = 0.0463306971331\n",
      "x = [0 0],  y = [0 0], out = [ 0.03  0.03], e = 0.0463306971331\n",
      "x = [1 1],  y = [1 1], out = [ 0.97  0.97], e = 0.0449115851178\n",
      "ll = [2, 2, 2]\n",
      "x = [1 0],  y = [0 1], out = [ 0.05  0.95], e = 0.0761628654009\n",
      "x = [0 1],  y = [1 0], out = [ 0.95  0.06], e = 0.079368162222\n",
      "x = [1 1],  y = [1 1], out = [ 0.94  0.95], e = 0.0809375650226\n",
      "x = [1 1],  y = [1 1], out = [ 0.94  0.95], e = 0.0809375650226\n",
      "x = [1 1],  y = [1 1], out = [ 0.94  0.95], e = 0.0809375650226\n",
      "x = [0 1],  y = [1 0], out = [ 0.95  0.06], e = 0.079368162222\n",
      "x = [1 0],  y = [0 1], out = [ 0.05  0.95], e = 0.0761628654009\n",
      "x = [0 0],  y = [0 0], out = [ 0.06  0.06], e = 0.0891241458693\n",
      "x = [0 0],  y = [0 0], out = [ 0.06  0.06], e = 0.0891241458693\n",
      "x = [1 1],  y = [1 1], out = [ 0.94  0.95], e = 0.0809375650226\n"
     ]
    }
   ],
   "source": [
    "np.set_printoptions(precision = 2)\n",
    "\n",
    "def sigmoid(z):\n",
    "    return 1.0/(1 + math.exp(-z))\n",
    "\n",
    "def dsigmoid(z):\n",
    "    return (1 - sigmoid(z))*sigmoid(z)\n",
    "    \n",
    "class NN:\n",
    "    def __init__(self, ll, lr = 0.05):\n",
    "        self.ll   = ll\n",
    "        self.lr   = lr        \n",
    "        self.fA   = np.vectorize(sigmoid)\n",
    "        self.dfA  = np.vectorize(dsigmoid)\n",
    "        self.w, self.b = self.genWB()\n",
    "    \n",
    "    def genWB(self):\n",
    "        w = [np.random.randn(nin,nout) for (nin,nout) in zip(self.ll[:-1], self.ll[1:])]\n",
    "        b = [np.random.randn(nout)     for nout     in self.ll[1:] ]\n",
    "        \n",
    "        return w,b\n",
    "    \n",
    "    def ff(self,x):        \n",
    "        v  = [None for l in self.ll]\n",
    "        vf = [None for l in self.ll]\n",
    "        \n",
    "        v [0] =   x\n",
    "        vf[0] = self.fA(x)                \n",
    "        \n",
    "        for i in range(len(self.w)):\n",
    "            v[i+1]  = np.dot(np.transpose(self.w[i]),v[i]) + self.b[i]\n",
    "            vf[i+1] = self.fA(v[i+1])\n",
    "            \n",
    "        return v,vf\n",
    "    \n",
    "    def ff_pure(self,x):\n",
    "        v = x\n",
    "        for i in range(len(self.w)):\n",
    "            v  = np.dot(np.transpose(self.w[i]),v) + self.b[i]\n",
    "            \n",
    "        return self.fA(v)\n",
    "    \n",
    "    def fb(self,v,vf,y):\n",
    "        g  = [None for i in self.w]\n",
    "        gw = [None for i in self.w]\n",
    "        \n",
    "        g[-1] = (vf[-1] - y)*self.dfA(v[-1])\n",
    "        for i in range(len(self.w) -2,-1,-1):\n",
    "            g[i] = np.multiply(np.dot(self.w[i+1], g[i+1]), self.dfA(v[i+1]))\n",
    "        \n",
    "        for i in range(len(self.w) -1,-1,-1):\n",
    "            gw[i] = np.transpose(np.outer(g[i], v[i]))\n",
    "            \n",
    "        return gw, g\n",
    "    \n",
    "    def trainStep(self,x,y):\n",
    "        v,vf  = self.ff(x)\n",
    "        gw,gb = self.fb(v,vf,y)\n",
    "        \n",
    "        self.w = self.w - np.multiply(gw, self.lr)\n",
    "        self.b = self.b - np.multiply(gb, self.lr)\n",
    "        \n",
    "        vf2   = self.ff_pure(x)\n",
    "        [e1,e2] = self.err(vf[-1], y), self.err(vf2,y)\n",
    "        return [e1,e2]\n",
    "        \n",
    "    def err(self, out, y):\n",
    "        return np.float(math.sqrt(sum((out - y) ** 2)))\n",
    "        \n",
    "    def train(self, data):\n",
    "        errs = []\n",
    "        for (x,y) in data:\n",
    "            errs += [self.trainStep(x,y)]\n",
    "        \n",
    "    \n",
    "    def test(self,data):\n",
    "        for (x,y) in data:\n",
    "            out = self.ff_pure(x)\n",
    "            err = self.err(out,y)\n",
    "            print \"x = {},  y = {}, out = {}, e = {}\".format(x,y,out,err)\n",
    "\n",
    "dat = genData(5000,2)\n",
    "layers = [[2,3,2],[2,2,2]]\n",
    "\n",
    "for ll in layers:\n",
    "    print \"ll = {}\".format(ll)\n",
    "    nn = NN(ll)\n",
    "    nn.train(dat)\n",
    "    nn.test(dat[:10])\n",
    "        "
   ]
  },
  {
   "cell_type": "code",
   "execution_count": null,
   "metadata": {
    "collapsed": true
   },
   "outputs": [],
   "source": []
  }
 ],
 "metadata": {
  "kernelspec": {
   "display_name": "Python 2",
   "language": "python",
   "name": "python2"
  },
  "language_info": {
   "codemirror_mode": {
    "name": "ipython",
    "version": 2
   },
   "file_extension": ".py",
   "mimetype": "text/x-python",
   "name": "python",
   "nbconvert_exporter": "python",
   "pygments_lexer": "ipython2",
   "version": "2.7.13"
  }
 },
 "nbformat": 4,
 "nbformat_minor": 2
}
