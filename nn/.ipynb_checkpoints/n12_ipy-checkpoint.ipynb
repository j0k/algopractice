{
 "cells": [
  {
   "cell_type": "code",
   "execution_count": 1,
   "metadata": {
    "collapsed": true
   },
   "outputs": [],
   "source": [
    "# 13:04, 24.10.2017\n",
    "\n",
    "import random\n",
    "import numpy as np\n",
    "import math"
   ]
  },
  {
   "cell_type": "code",
   "execution_count": 3,
   "metadata": {},
   "outputs": [],
   "source": [
    "def genDat(n,l):\n",
    "    rotL = lambda x: x[1:] + [x[0]]\n",
    "    \n",
    "    rand = lambda x: map(lambda y: random.choice([0,1]), range(l))\n",
    "    \n",
    "    x = map(rand, range(n))\n",
    "    y = map(rotL, x)\n",
    "    \n",
    "    x = map(np.array, x)\n",
    "    y = map(np.array, y)\n",
    "    \n",
    "    return zip(x,y)\n",
    "\n"
   ]
  },
  {
   "cell_type": "code",
   "execution_count": 19,
   "metadata": {},
   "outputs": [
    {
     "name": "stdout",
     "output_type": "stream",
     "text": [
      "ll = [2, 5, 2]\n",
      "ll = [2, 6, 2]\n"
     ]
    }
   ],
   "source": [
    "def sigmoid(x):\n",
    "    return 1.0/(1 + math.exp(-x))\n",
    "\n",
    "class NN:\n",
    "    def __init__(_,ll,lr=0.05):\n",
    "        _.ll  = ll\n",
    "        _.lr  = lr\n",
    "        _.fA  = np.vectorize(sigmoid)\n",
    "        _.dfA = np.vectorize(lambda x: (1 - sigmoid(x)) * sigmoid(x))\n",
    "        \n",
    "        _.w, _.b = _.genWB()\n",
    "        \n",
    "    def genWB(_):\n",
    "        w = [np.random.randn(nin,nout) for (nin,nout) in zip(_.ll[:-1], _.ll[1:])]\n",
    "        b = [np.random.randn(nout)     for nout       in _.ll[1:]]\n",
    "        \n",
    "        return w,b\n",
    "    \n",
    "    def ff(_,x):\n",
    "        v  = [None for l in _.ll]\n",
    "        vf = [None for l in _.ll]\n",
    "        \n",
    "        v[0]  = x\n",
    "        vf[0] = _.fA(x)\n",
    "        \n",
    "        for i in range(len(_.w)):\n",
    "            v[i+1]  = np.dot(np.transpose(_.w[i]), v[i]) + _.b[i]\n",
    "            vf[i+1] = _.fA (v[i+1])\n",
    "            \n",
    "        return v,vf\n",
    "    \n",
    "    def fb(_, v,vf,y):\n",
    "        g  = [None for x in _.w]\n",
    "        gw = [None for x in _.w]\n",
    "        \n",
    "        g[-1] = (vf[-1] - y) * _.dfA(v[-1])\n",
    "        for i in range(len(_.w)-2, -1, -1):\n",
    "            g[i]  = np.multiply(np.dot (_.w[i+1], g[i+1]), _.dfA(v[i+1]) )\n",
    "            \n",
    "        for i in range(len(_.w)-1, -1, -1):\n",
    "            gw[i] = np.transpose( np.outer(g[i], v[i]) )\n",
    "            \n",
    "\n",
    "            \n",
    "        return gw, g\n",
    "    \n",
    "    def trainStep(_,x,y):\n",
    "        v, vf  = _.ff(x)\n",
    "        gw, gb = _.fb(v,vf,y)\n",
    "        \n",
    "        mult = lambda a,m: map(lambda z: np.multiply(z, m), a)\n",
    "                \n",
    "        _.w = _.w - np.multiply(gw, _.lr)        \n",
    "        _.b = _.b - np.multiply(gb, _.lr)\n",
    "        \n",
    "    def train(_,data):\n",
    "        for (x,y) in data:\n",
    "            _.trainStep(x,y)\n",
    "            \n",
    "    def err(_, out, y):\n",
    "        (out - y) ** 2\n",
    "        \n",
    "\n",
    "dat = genDat(10,2)\n",
    "\n",
    "layers = [[2,5,2], [2,6,2]]\n",
    "for ll in layers:\n",
    "    print \"ll = {}\".format(ll)\n",
    "    nn = NN(ll)\n",
    "    nn.train(dat)"
   ]
  },
  {
   "cell_type": "code",
   "execution_count": null,
   "metadata": {
    "collapsed": true
   },
   "outputs": [],
   "source": []
  }
 ],
 "metadata": {
  "kernelspec": {
   "display_name": "Python 2",
   "language": "python",
   "name": "python2"
  },
  "language_info": {
   "codemirror_mode": {
    "name": "ipython",
    "version": 2
   },
   "file_extension": ".py",
   "mimetype": "text/x-python",
   "name": "python",
   "nbconvert_exporter": "python",
   "pygments_lexer": "ipython2",
   "version": "2.7.13"
  }
 },
 "nbformat": 4,
 "nbformat_minor": 2
}
