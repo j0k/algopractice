{
 "cells": [
  {
   "cell_type": "code",
   "execution_count": 21,
   "metadata": {
    "collapsed": true
   },
   "outputs": [],
   "source": [
    "# 04.11.2017, Soloniki airport\n",
    "# 15:31 - 18:04, total = 33m\n",
    "import random\n",
    "import numpy as np\n",
    "import math"
   ]
  },
  {
   "cell_type": "code",
   "execution_count": 5,
   "metadata": {},
   "outputs": [],
   "source": [
    "def genDat(n,l):\n",
    "    rotL = lambda x: x[1:] + [x[0]]\n",
    "    \n",
    "    rand = lambda y: map(lambda v:random.choice([0,1]), [2]*y)\n",
    "    x    = map(rand, [l]*n)\n",
    "    y    = map(rotL, x)\n",
    "    \n",
    "    x    = map(np.array, x)\n",
    "    y    = map(np.array, y)\n",
    "    return zip(x,y)\n",
    "\n",
    "\n",
    "np    "
   ]
  },
  {
   "cell_type": "code",
   "execution_count": 20,
   "metadata": {},
   "outputs": [
    {
     "name": "stdout",
     "output_type": "stream",
     "text": [
      "ll = [3, 3, 3]\n",
      "x = [1 1 1], y = [1 1 1], out = [ 0.8   0.94  0.82], e = 0.272061401705\n",
      "x = [0 1 1], y = [1 1 0], out = [ 0.83  0.93  0.02], e = 0.184448913787\n",
      "x = [0 1 1], y = [1 1 0], out = [ 0.83  0.93  0.02], e = 0.184448913787\n",
      "x = [1 1 0], y = [1 0 1], out = [ 0.8   0.12  0.9 ], e = 0.25289433463\n",
      "x = [0 1 1], y = [1 1 0], out = [ 0.83  0.93  0.02], e = 0.184448913787\n",
      "ll = [3, 5, 4, 3]\n",
      "x = [1 1 1], y = [1 1 1], out = [ 0.91  0.82  0.93], e = 0.210060087673\n",
      "x = [0 1 1], y = [1 1 0], out = [ 0.97  0.69  0.13], e = 0.3355862347\n",
      "x = [0 1 1], y = [1 1 0], out = [ 0.97  0.69  0.13], e = 0.3355862347\n",
      "x = [1 1 0], y = [1 0 1], out = [ 0.86  0.3   0.86], e = 0.361846042331\n",
      "x = [0 1 1], y = [1 1 0], out = [ 0.97  0.69  0.13], e = 0.3355862347\n"
     ]
    }
   ],
   "source": [
    "np.set_printoptions(precision=2, suppress=True)\n",
    "\n",
    "def logsigmoid(z):\n",
    "    return 1.0/(1 + math.exp(-z))\n",
    "\n",
    "def dlogsigmoid(z):\n",
    "    f = logsigmoid\n",
    "    return f(z)*(1 - f(z))\n",
    "\n",
    "class NN:\n",
    "    def __init__(_,ll,lr=0.05):\n",
    "        _.ll = ll\n",
    "        _.lr = lr\n",
    "        _.fA  = np.vectorize(logsigmoid)\n",
    "        _.dfA = np.vectorize(dlogsigmoid)\n",
    "        \n",
    "        _.w, _.b = _.genWB()\n",
    "        \n",
    "    def genWB(_):\n",
    "        w = [np.random.randn(n,m) for (n,m) in zip(_.ll[:-1], _.ll[1:])]\n",
    "        b = [np.random.randn(m)   for m     in _.ll[1:]]\n",
    "        \n",
    "        return w,b\n",
    "    \n",
    "    def ff(_,x):\n",
    "        v  = [None] * len(_.ll)\n",
    "        vf = [None] * len(_.ll)\n",
    "        \n",
    "        v[0] = vf[0] = x\n",
    "        \n",
    "        for i in range(len(_.w)):\n",
    "            v[i+1]  = np.dot( np.transpose(_.w[i]), vf[i]) + _.b[i]\n",
    "            vf[i+1] = _.fA(v[i+1])\n",
    "            \n",
    "        return v,vf\n",
    "    \n",
    "    def ff_pure(_,x):\n",
    "        v  = x            \n",
    "        for i in range(len(_.w)):\n",
    "            v  = _.fA(np.dot( np.transpose(_.w[i]), v) + _.b[i])\n",
    "                        \n",
    "        return v\n",
    "    \n",
    "    def fb(_,v,vf,y):\n",
    "        g  = [None] * len(_.w)\n",
    "        gw = [None] * len(_.w)\n",
    "        \n",
    "        g[-1] = (vf[-1] - y)*_.dfA(vf[-1])\n",
    "        \n",
    "        for i in range(len(_.w)-2, -1, -1):\n",
    "            g[i] = np.multiply(np.dot(_.w[i+1], g[i+1]), _.dfA(v[i+1]))\n",
    "            \n",
    "        for i in range(len(_.w)-1, -1, -1):\n",
    "            gw[i] = np.transpose(np.outer(g[i], vf[i]))\n",
    "            \n",
    "        return gw,g\n",
    "    \n",
    "    def trainStep(_,x,y):\n",
    "        v ,vf = _.ff(x)\n",
    "        gw,gb = _.fb(v,vf,y)\n",
    "        \n",
    "        _.w = _.w - np.multiply(gw, _.lr)\n",
    "        _.b = _.b - np.multiply(gb, _.lr)\n",
    "        \n",
    "        out = _.ff_pure(x)\n",
    "        \n",
    "        [e1,e2] = [_.err(vf[-1],y), _.err(out,y)]\n",
    "        return [e1,e2]\n",
    "    \n",
    "    def train(_, data):\n",
    "        return [_.trainStep(x,y) for (x,y) in data]\n",
    "    \n",
    "    def test(_,data):\n",
    "        for (x,y) in data:\n",
    "            out = _.ff_pure(x)\n",
    "            e   = _.err(out,y)\n",
    "            print \"x = {}, y = {}, out = {}, e = {}\".format(x,y,out,e)\n",
    "    \n",
    "    def err(_, out,y):\n",
    "        return math.sqrt(sum((out - y)**2))\n",
    "    \n",
    "    \n",
    "layers = [[3,3,3], [3,5,4,3]]\n",
    "    \n",
    "data = genDat(10000,3)\n",
    "    \n",
    "for ll in layers:\n",
    "    print \"ll = {}\".format(ll)\n",
    "    bpn = NN(ll)\n",
    "    bpn.train(data)\n",
    "    bpn.test(data[:5])\n"
   ]
  },
  {
   "cell_type": "code",
   "execution_count": null,
   "metadata": {
    "collapsed": true
   },
   "outputs": [],
   "source": []
  }
 ],
 "metadata": {
  "kernelspec": {
   "display_name": "Python 2",
   "language": "python",
   "name": "python2"
  },
  "language_info": {
   "codemirror_mode": {
    "name": "ipython",
    "version": 2
   },
   "file_extension": ".py",
   "mimetype": "text/x-python",
   "name": "python",
   "nbconvert_exporter": "python",
   "pygments_lexer": "ipython2",
   "version": "2.7.13"
  }
 },
 "nbformat": 4,
 "nbformat_minor": 2
}
