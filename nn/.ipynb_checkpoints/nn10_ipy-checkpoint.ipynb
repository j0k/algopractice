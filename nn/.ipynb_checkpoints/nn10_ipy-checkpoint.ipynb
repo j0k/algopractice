{
 "cells": [
  {
   "cell_type": "code",
   "execution_count": 5,
   "metadata": {
    "collapsed": true
   },
   "outputs": [],
   "source": [
    "# start 22.10.2017 18:54\n",
    "# end   22.10.2017 19:40\n",
    "# total: 46 min"
   ]
  },
  {
   "cell_type": "code",
   "execution_count": 6,
   "metadata": {
    "collapsed": true
   },
   "outputs": [],
   "source": [
    "import random\n",
    "import numpy as np\n",
    "import math"
   ]
  },
  {
   "cell_type": "code",
   "execution_count": 16,
   "metadata": {
    "collapsed": true
   },
   "outputs": [],
   "source": [
    "def genData(n,l):\n",
    "    rotL = lambda x:x[1:] + [x[0]]\n",
    "    \n",
    "    rand = lambda x:map(lambda y:random.choice([0.0,1.0]) ,range(l))\n",
    "    \n",
    "    x = map(rand, range(n))\n",
    "    y = map(rotL, x)\n",
    "    \n",
    "    x = map(np.array,x)\n",
    "    y = map(np.array,y)\n",
    "    \n",
    "    return zip(x,y)"
   ]
  },
  {
   "cell_type": "code",
   "execution_count": 22,
   "metadata": {},
   "outputs": [],
   "source": []
  },
  {
   "cell_type": "code",
   "execution_count": 105,
   "metadata": {},
   "outputs": [
    {
     "name": "stdout",
     "output_type": "stream",
     "text": [
      "ll = [3, 5, 3]\n",
      "x = [ 1.  1.  0.], y = [ 1.  0.  1.], out = [ 0.99240534  0.00956557  0.99041566], e = 0.0155254189266\n",
      "x = [ 1.  1.  1.], y = [ 1.  1.  1.], out = [ 0.98698044  0.98509183  0.98911394], e = 0.0225891296998\n",
      "x = [ 0.  1.  0.], y = [ 1.  0.  0.], out = [ 0.99388062  0.01190352  0.016234  ], e = 0.021040041681\n",
      "x = [ 1.  1.  0.], y = [ 1.  0.  1.], out = [ 0.99240534  0.00956557  0.99041566], e = 0.0155254189266\n",
      "x = [ 0.  0.  1.], y = [ 0.  1.  0.], out = [ 0.00782016  0.99093222  0.01638546], e = 0.0202944019159\n",
      "x = [ 1.  1.  1.], y = [ 1.  1.  1.], out = [ 0.98698044  0.98509183  0.98911394], e = 0.0225891296998\n",
      "x = [ 0.  1.  0.], y = [ 1.  0.  0.], out = [ 0.99388062  0.01190352  0.016234  ], e = 0.021040041681\n",
      "x = [ 1.  0.  1.], y = [ 0.  1.  1.], out = [ 0.00630136  0.98871455  0.99050486], e = 0.0160382713543\n",
      "x = [ 0.  0.  0.], y = [ 0.  0.  0.], out = [ 0.01340395  0.0157215   0.01859355], e = 0.0277948083741\n",
      "x = [ 1.  0.  1.], y = [ 0.  1.  1.], out = [ 0.00630136  0.98871455  0.99050486], e = 0.0160382713543\n",
      "ll = [3, 4, 5, 3]\n",
      "x = [ 1.  1.  0.], y = [ 1.  0.  1.], out = [ 0.98638667  0.01618176  0.98765273], e = 0.0244872887268\n",
      "x = [ 1.  1.  1.], y = [ 1.  1.  1.], out = [ 0.98473184  0.99741713  0.98623611], e = 0.0207179329646\n",
      "x = [ 0.  1.  0.], y = [ 1.  0.  0.], out = [ 0.99903232  0.00474349  0.00530245], e = 0.0071800504204\n",
      "x = [ 1.  1.  0.], y = [ 1.  0.  1.], out = [ 0.98638667  0.01618176  0.98765273], e = 0.0244872887268\n",
      "x = [ 0.  0.  1.], y = [ 0.  1.  0.], out = [ 0.01051055  0.98643438  0.01085097], e = 0.0203037270504\n",
      "x = [ 1.  1.  1.], y = [ 1.  1.  1.], out = [ 0.98473184  0.99741713  0.98623611], e = 0.0207179329646\n",
      "x = [ 0.  1.  0.], y = [ 1.  0.  0.], out = [ 0.99903232  0.00474349  0.00530245], e = 0.0071800504204\n",
      "x = [ 1.  0.  1.], y = [ 0.  1.  1.], out = [  7.44944032e-04   9.96030861e-01   9.93961689e-01], e = 0.00726431084415\n",
      "x = [ 0.  0.  0.], y = [ 0.  0.  0.], out = [ 0.01179272  0.00308761  0.01209802], e = 0.0171745087805\n",
      "x = [ 1.  0.  1.], y = [ 0.  1.  1.], out = [  7.44944032e-04   9.96030861e-01   9.93961689e-01], e = 0.00726431084415\n"
     ]
    }
   ],
   "source": [
    "def sigmoid(x):\n",
    "    return 1.0/(1.0 + math.exp(-x))\n",
    "\n",
    "class NN:\n",
    "    def __init__(self, ll, lr = 0.05):\n",
    "        self.ll = ll\n",
    "        self.lr = lr\n",
    "        \n",
    "        self.w, self.b = self.genWB()\n",
    "        \n",
    "    def genWB(self):\n",
    "        w = [np.random.randn(nin, nout) for (nin, nout) in zip(self.ll[:-1], self.ll[1:])]\n",
    "        b = [np.random.randn(nout)      for nout        in self.ll[1:]]\n",
    "        \n",
    "        return w,b\n",
    "    \n",
    "    def ff(self,x):\n",
    "        f = np.vectorize(sigmoid)\n",
    "        \n",
    "        w = self.w\n",
    "        b = self.b\n",
    "        \n",
    "        v  = [None for l in self.ll]\n",
    "        vf = [None for l in self.ll]\n",
    "        \n",
    "        v[0]  = x\n",
    "        vf[0] = f(x)\n",
    "        \n",
    "        for i in range(len(w)):\n",
    "            v[i+1]  = np.dot(np.transpose(w[i]), v[i]) + b[i]\n",
    "            vf[i+1] = f(v[i+1])\n",
    "            \n",
    "        \n",
    "            \n",
    "        return v,vf\n",
    "    \n",
    "    def fb(self,v,vf,y):\n",
    "        w = self.w\n",
    "        b = self.b\n",
    "        \n",
    "        f  = np.vectorize(sigmoid)\n",
    "        df = lambda z: (1 - f(z)) * f(z)\n",
    "        \n",
    "        g  = [None for wi in w]\n",
    "        gw = [None for wi in w]\n",
    "        gb = [None for wi in w]\n",
    "        \n",
    "        g[-1] = (vf[-1] - y)*df(v[-1])\n",
    "        for i in range(len(w)-2,-1,-1):\n",
    "            g[i]  = np.multiply(np.dot(w[i+1],g[i+1]), df(v[i+1]))\n",
    "        \n",
    "        for i in range(len(w)-1,-1,-1):\n",
    "            gw[i] = np.transpose(np.outer(g[i], v[i]))\n",
    "            #print gw[i]\n",
    "            \n",
    "        return gw, g\n",
    "    \n",
    "    def trainStep(self,x,y):\n",
    "        v, vf = self.ff(x)\n",
    "        gw,gb = self.fb(v,vf,y)\n",
    "        #print gw\n",
    "        #print np.multiply(gw,self.lr)\n",
    "        self.w = self.w - np.multiply(gw,self.lr)\n",
    "        #print self.w\n",
    "        #print \"\"\n",
    "        self.b = self.b - np.multiply(gb,self.lr)\n",
    "        \n",
    "        v2, vf2 = self.ff(x)\n",
    "        \n",
    "        [e1,e2] = self.err(vf[-1],y), self.err(vf2[-1],y)\n",
    "        return [e1, e2]\n",
    "        \n",
    "    def err(self, out, y):        \n",
    "        return math.sqrt(sum((out - y) ** 2.0))\n",
    "    \n",
    "    def test(self,dat):\n",
    "        for (x,y) in dat:\n",
    "            v,vf = self.ff(x)\n",
    "            e    = self.err(vf[-1],y)\n",
    "            print \"x = {}, y = {}, out = {}, e = {}\".format(x,y,vf[-1],e)\n",
    "        \n",
    "                    \n",
    "dat = genData(40000,3)        \n",
    "layers = [[3,5,3], [3,4,5,3]]\n",
    "for ll in layers:\n",
    "    print \"ll = {}\".format(ll)\n",
    "    nn = NN(ll, 0.05)\n",
    "    for (x,y) in dat:\n",
    "        #print x\n",
    "        #v,vf = nn.ff(x)\n",
    "        #print v\n",
    "        #print vf\n",
    "        #nn.fb(v,vf,y)\n",
    "        nn.trainStep(x,y)\n",
    "        \n",
    "    nn.test(dat[:10])"
   ]
  },
  {
   "cell_type": "code",
   "execution_count": 106,
   "metadata": {},
   "outputs": [
    {
     "data": {
      "text/plain": [
       "([[0, 0, 0],\n",
       "  array([-1.65725214,  0.4778998 , -1.34683734,  0.67521731]),\n",
       "  array([-4.4819339 ,  2.64348865,  0.917422  , -0.06468444,  0.02717046]),\n",
       "  array([-4.42840984, -5.77726428, -4.40254171])],\n",
       " [array([ 0.5,  0.5,  0.5]),\n",
       "  array([ 0.16013121,  0.61725182,  0.20638791,  0.66267042]),\n",
       "  array([ 0.011185  ,  0.93360853,  0.71451653,  0.48383453,  0.5067922 ]),\n",
       "  array([ 0.01179272,  0.00308761,  0.01209802])])"
      ]
     },
     "execution_count": 106,
     "metadata": {},
     "output_type": "execute_result"
    }
   ],
   "source": [
    "nn.ff([0,0,0])"
   ]
  },
  {
   "cell_type": "code",
   "execution_count": 107,
   "metadata": {},
   "outputs": [
    {
     "data": {
      "text/plain": [
       "array([ array([[ 0.97967589, -0.86919222,  0.49992538,  1.09985099],\n",
       "       [-1.13356107,  0.22016501,  0.4373572 , -0.83926199],\n",
       "       [-0.3431183 ,  1.49244349, -0.06090128,  0.78324412]]),\n",
       "       array([[-0.32866295,  0.70310799, -0.97442744, -0.83683225,  1.32071298],\n",
       "       [ 0.24751731,  0.73167319, -0.82948313,  1.0483886 ,  0.59078058],\n",
       "       [ 2.70175699, -1.43323762,  0.77319265,  1.07598952, -0.03313636],\n",
       "       [-0.28323829,  0.72290797,  0.17833991, -0.33179907,  1.85285582]]),\n",
       "       array([[ 1.4140245 ,  2.16626985,  0.16676872],\n",
       "       [-0.16729143,  1.61326412, -2.26314527],\n",
       "       [ 2.93240542, -0.9235387 ,  3.3291025 ],\n",
       "       [ 2.06456757,  2.52825647,  0.0607288 ],\n",
       "       [-0.41093381,  1.49935759,  3.12760522]])], dtype=object)"
      ]
     },
     "execution_count": 107,
     "metadata": {},
     "output_type": "execute_result"
    }
   ],
   "source": [
    "nn.w"
   ]
  },
  {
   "cell_type": "code",
   "execution_count": null,
   "metadata": {
    "collapsed": true
   },
   "outputs": [],
   "source": []
  }
 ],
 "metadata": {
  "kernelspec": {
   "display_name": "Python 2",
   "language": "python",
   "name": "python2"
  },
  "language_info": {
   "codemirror_mode": {
    "name": "ipython",
    "version": 2
   },
   "file_extension": ".py",
   "mimetype": "text/x-python",
   "name": "python",
   "nbconvert_exporter": "python",
   "pygments_lexer": "ipython2",
   "version": "2.7.13"
  }
 },
 "nbformat": 4,
 "nbformat_minor": 2
}
