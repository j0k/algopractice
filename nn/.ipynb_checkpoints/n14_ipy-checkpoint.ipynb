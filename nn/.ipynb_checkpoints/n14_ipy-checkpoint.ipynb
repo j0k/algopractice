{
 "cells": [
  {
   "cell_type": "code",
   "execution_count": 29,
   "metadata": {
    "collapsed": true
   },
   "outputs": [],
   "source": [
    "### start 6:24\n",
    "### end   6:49\n",
    "### total 25\n",
    "\n",
    "import numpy as np\n",
    "import random\n",
    "import math\n",
    "import itertools"
   ]
  },
  {
   "cell_type": "code",
   "execution_count": 11,
   "metadata": {},
   "outputs": [],
   "source": [
    "def genDat(n,l):\n",
    "    rotL = lambda x: x[1:] + [x[0]]\n",
    "    \n",
    "    rand = lambda x: map(lambda y:random.choice([0.0,1.0]), [0] * l)\n",
    "    x = map(rand, [l]*n)\n",
    "    y = map(rotL, x)\n",
    "    \n",
    "    x = map(np.array, x)\n",
    "    y = map(np.array, y)\n",
    "    \n",
    "    return zip(x,y)\n",
    "\n"
   ]
  },
  {
   "cell_type": "code",
   "execution_count": 27,
   "metadata": {},
   "outputs": [],
   "source": [
    "np.set_printoptions(precision=3, suppress = True)\n",
    "\n",
    "def logsigmoid(x):\n",
    "    return 1.0/(1 + math.exp(-x))\n",
    "\n",
    "def dlogsigmoid(x):\n",
    "    f = logsigmoid\n",
    "    return f(x)*(1.0 - f(x))\n",
    "\n",
    "\n",
    "class NN:\n",
    "    def __init__(_,ll,lr = 0.05):\n",
    "        _.ll  = ll\n",
    "        _.lr  = lr\n",
    "        _.fA  = np.vectorize(logsigmoid)\n",
    "        _.dfA = np.vectorize(dlogsigmoid)\n",
    "        \n",
    "        _.w, _.b = _.genWB()\n",
    "        \n",
    "    def genWB(_):\n",
    "        w = [np.random.randn(nin,nout) for (nin, nout) in zip(_.ll[:-1], _.ll[1:])]\n",
    "        b = [np.random.randn(nout)     for nout        in _.ll[1:]]\n",
    "        \n",
    "        return w,b\n",
    "    \n",
    "    def ff(_,x):\n",
    "        v  = [None] * len(_.ll)\n",
    "        vf = [None] * len(_.ll)\n",
    "        \n",
    "        vf[0] = x\n",
    "        v[0]  = x\n",
    "        \n",
    "        for i in range(len(_.w)):\n",
    "            v[i+1]  = np.dot(np.transpose(_.w[i]), vf[i]) + _.b[i]\n",
    "            vf[i+1] = _.fA(v[i+1])\n",
    "            \n",
    "        return v,vf\n",
    "    \n",
    "    def ff_pure(_,x):\n",
    "        v = x\n",
    "        for i in range(len(_.w)):\n",
    "            v  = _.fA(np.dot(np.transpose(_.w[i]), v) + _.b[i])\n",
    "            \n",
    "            \n",
    "        return v\n",
    "        \n",
    "    \n",
    "    def fb(_,v,vf,y):\n",
    "        g  = [None] * len(_.w)\n",
    "        gw = [None] * len(_.w)\n",
    "        \n",
    "        g[-1] = (vf[-1] - y) * _.dfA(v[-1])\n",
    "        for i in range(len(_.w) -2,-1,-1):\n",
    "            g[i] = np.multiply(np.dot(_.w[i+1], g[i+1]), _.dfA(v[i+1]))\n",
    "            \n",
    "        for i in range(len(_.w) -1,-1,-1):\n",
    "            gw[i] = np.transpose( np.outer(g[i], v[i]) )\n",
    "            \n",
    "        return gw,g\n",
    "    \n",
    "    def trainStep(_,x,y):\n",
    "        v,vf  = _.ff(x)\n",
    "        gw,gb = _.fb(v,vf,y)\n",
    "        \n",
    "        _.w = _.w - np.multiply(gw, _.lr)\n",
    "        _.b = _.b - np.multiply(gb, _.lr)\n",
    "        \n",
    "        out = _.ff_pure(x)\n",
    "        \n",
    "        [e1,e2] = _.err(vf[-1], y), _.err(out, y)\n",
    "        return [e1,e2]\n",
    "        \n",
    "    def err(_, out, y):\n",
    "        return math.sqrt(sum((out - y) ** 2))\n",
    "    \n",
    "    def train(_, data):\n",
    "        return [_.trainStep(x,y) for (x,y) in data]\n",
    "    \n",
    "    def test(_, data):\n",
    "        for (x,y) in data:\n",
    "            v,vf  = _.ff(x)\n",
    "            e     = _.err(vf[-1], y)\n",
    "            print \"x = {}, y = {}, out = {}, e = {}\".format(x,y,vf[-1],e)\n",
    "    "
   ]
  },
  {
   "cell_type": "code",
   "execution_count": 28,
   "metadata": {},
   "outputs": [
    {
     "name": "stdout",
     "output_type": "stream",
     "text": [
      "ll = [3, 4, 3]\n",
      "x = [ 1.  0.  1.], y = [ 0.  1.  1.], out = [ 0.029  0.998  0.995], e = 0.0295287033377\n",
      "x = [ 1.  0.  1.], y = [ 0.  1.  1.], out = [ 0.029  0.998  0.995], e = 0.0295287033377\n",
      "x = [ 1.  1.  1.], y = [ 1.  1.  1.], out = [ 0.983  0.991  0.997], e = 0.0190579350783\n",
      "x = [ 0.  1.  1.], y = [ 1.  1.  0.], out = [ 0.922  0.887  0.053], e = 0.147303161452\n",
      "x = [ 0.  0.  1.], y = [ 0.  1.  0.], out = [ 0.066  0.986  0.067], e = 0.0949547589091\n",
      "ll = [3, 3, 5, 3]\n",
      "x = [ 1.  0.  1.], y = [ 0.  1.  1.], out = [ 0.  1.  1.], e = 4.81638190981e-06\n",
      "x = [ 1.  0.  1.], y = [ 0.  1.  1.], out = [ 0.  1.  1.], e = 4.81638190981e-06\n",
      "x = [ 1.  1.  1.], y = [ 1.  1.  1.], out = [ 0.908  0.912  0.853], e = 0.194917343343\n",
      "x = [ 0.  1.  1.], y = [ 1.  1.  0.], out = [ 0.913  0.848  0.151], e = 0.230789006676\n",
      "x = [ 0.  0.  1.], y = [ 0.  1.  0.], out = [ 0.     1.     0.001], e = 0.00120557951035\n"
     ]
    }
   ],
   "source": [
    "\n",
    "\n",
    "layers = [[3,4,3], [3,3,5,3]]\n",
    "\n",
    "dat = genDat(20000,3)\n",
    "for ll in layers:\n",
    "    print \"ll = {}\".format(ll)\n",
    "    nn = NN(ll)\n",
    "    nn.train(dat)\n",
    "    nn.test(dat[:5])"
   ]
  },
  {
   "cell_type": "code",
   "execution_count": null,
   "metadata": {},
   "outputs": [],
   "source": []
  },
  {
   "cell_type": "code",
   "execution_count": null,
   "metadata": {
    "collapsed": true
   },
   "outputs": [],
   "source": []
  }
 ],
 "metadata": {
  "kernelspec": {
   "display_name": "Python 2",
   "language": "python",
   "name": "python2"
  },
  "language_info": {
   "codemirror_mode": {
    "name": "ipython",
    "version": 2
   },
   "file_extension": ".py",
   "mimetype": "text/x-python",
   "name": "python",
   "nbconvert_exporter": "python",
   "pygments_lexer": "ipython2",
   "version": "2.7.13"
  }
 },
 "nbformat": 4,
 "nbformat_minor": 2
}
