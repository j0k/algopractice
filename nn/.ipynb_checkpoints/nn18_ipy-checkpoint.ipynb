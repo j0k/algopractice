{
 "cells": [
  {
   "cell_type": "code",
   "execution_count": 1,
   "metadata": {
    "collapsed": true
   },
   "outputs": [],
   "source": [
    "# start\n",
    "# 18:00\n",
    "    \n",
    "    \n",
    "import random\n",
    "import numpy as np\n",
    "import math"
   ]
  },
  {
   "cell_type": "code",
   "execution_count": 6,
   "metadata": {
    "collapsed": true
   },
   "outputs": [],
   "source": [
    "def genDat(n,l):\n",
    "    rotL = lambda x: x[1:] + [x[0]]\n",
    "    \n",
    "    rand = lambda v: map(lambda z: random.choice([0,1]), v)\n",
    "    x  = map(rand, [l] * n)\n",
    "    y  = map(rotL, x)\n",
    "    \n",
    "    x = map(np.array, x)\n",
    "    y = map(np.array, y)\n",
    "    \n",
    "    return zip(x,y)   \n",
    "\n",
    "def logsigmoid(z):\n",
    "    return 1.0/(1 + math.exp(-z))\n",
    "\n",
    "def dlogsigmoid(z):\n",
    "    return logsigmoid(z)*(1 - logsigmoid(z))"
   ]
  },
  {
   "cell_type": "code",
   "execution_count": 7,
   "metadata": {},
   "outputs": [
    {
     "ename": "TypeError",
     "evalue": "argument 2 to map() must support iteration",
     "output_type": "error",
     "traceback": [
      "\u001b[1;31m---------------------------------------------------------------------------\u001b[0m",
      "\u001b[1;31mTypeError\u001b[0m                                 Traceback (most recent call last)",
      "\u001b[1;32m<ipython-input-7-e0fa290da822>\u001b[0m in \u001b[0;36m<module>\u001b[1;34m()\u001b[0m\n\u001b[0;32m     74\u001b[0m \u001b[1;33m\u001b[0m\u001b[0m\n\u001b[0;32m     75\u001b[0m \u001b[1;33m\u001b[0m\u001b[0m\n\u001b[1;32m---> 76\u001b[1;33m \u001b[0mdat\u001b[0m \u001b[1;33m=\u001b[0m \u001b[0mgenDat\u001b[0m\u001b[1;33m(\u001b[0m\u001b[1;36m10\u001b[0m\u001b[1;33m,\u001b[0m\u001b[1;36m3\u001b[0m\u001b[1;33m)\u001b[0m\u001b[1;33m\u001b[0m\u001b[0m\n\u001b[0m\u001b[0;32m     77\u001b[0m \u001b[1;33m\u001b[0m\u001b[0m\n\u001b[0;32m     78\u001b[0m \u001b[1;32mfor\u001b[0m \u001b[0mll\u001b[0m \u001b[1;32min\u001b[0m \u001b[0mlayers\u001b[0m\u001b[1;33m:\u001b[0m\u001b[1;33m\u001b[0m\u001b[0m\n",
      "\u001b[1;32m<ipython-input-6-7e029799e992>\u001b[0m in \u001b[0;36mgenDat\u001b[1;34m(n, l)\u001b[0m\n\u001b[0;32m      3\u001b[0m \u001b[1;33m\u001b[0m\u001b[0m\n\u001b[0;32m      4\u001b[0m     \u001b[0mrand\u001b[0m \u001b[1;33m=\u001b[0m \u001b[1;32mlambda\u001b[0m \u001b[0mv\u001b[0m\u001b[1;33m:\u001b[0m \u001b[0mmap\u001b[0m\u001b[1;33m(\u001b[0m\u001b[1;32mlambda\u001b[0m \u001b[0mz\u001b[0m\u001b[1;33m:\u001b[0m \u001b[0mrandom\u001b[0m\u001b[1;33m.\u001b[0m\u001b[0mchoice\u001b[0m\u001b[1;33m(\u001b[0m\u001b[1;33m[\u001b[0m\u001b[1;36m0\u001b[0m\u001b[1;33m,\u001b[0m\u001b[1;36m1\u001b[0m\u001b[1;33m]\u001b[0m\u001b[1;33m)\u001b[0m\u001b[1;33m,\u001b[0m \u001b[0mv\u001b[0m\u001b[1;33m)\u001b[0m\u001b[1;33m\u001b[0m\u001b[0m\n\u001b[1;32m----> 5\u001b[1;33m     \u001b[0mx\u001b[0m  \u001b[1;33m=\u001b[0m \u001b[0mmap\u001b[0m\u001b[1;33m(\u001b[0m\u001b[0mrand\u001b[0m\u001b[1;33m,\u001b[0m \u001b[1;33m[\u001b[0m\u001b[0ml\u001b[0m\u001b[1;33m]\u001b[0m\u001b[1;33m*\u001b[0m\u001b[0mn\u001b[0m\u001b[1;33m)\u001b[0m\u001b[1;33m\u001b[0m\u001b[0m\n\u001b[0m\u001b[0;32m      6\u001b[0m     \u001b[0my\u001b[0m  \u001b[1;33m=\u001b[0m \u001b[0mmap\u001b[0m\u001b[1;33m(\u001b[0m\u001b[0mrotL\u001b[0m\u001b[1;33m,\u001b[0m \u001b[0mx\u001b[0m\u001b[1;33m)\u001b[0m\u001b[1;33m\u001b[0m\u001b[0m\n\u001b[0;32m      7\u001b[0m \u001b[1;33m\u001b[0m\u001b[0m\n",
      "\u001b[1;32m<ipython-input-6-7e029799e992>\u001b[0m in \u001b[0;36m<lambda>\u001b[1;34m(v)\u001b[0m\n\u001b[0;32m      2\u001b[0m     \u001b[0mrotL\u001b[0m \u001b[1;33m=\u001b[0m \u001b[1;32mlambda\u001b[0m \u001b[0mx\u001b[0m\u001b[1;33m:\u001b[0m \u001b[0mx\u001b[0m\u001b[1;33m[\u001b[0m\u001b[1;36m1\u001b[0m\u001b[1;33m:\u001b[0m\u001b[1;33m]\u001b[0m \u001b[1;33m+\u001b[0m \u001b[1;33m[\u001b[0m\u001b[0mx\u001b[0m\u001b[1;33m[\u001b[0m\u001b[1;36m0\u001b[0m\u001b[1;33m]\u001b[0m\u001b[1;33m]\u001b[0m\u001b[1;33m\u001b[0m\u001b[0m\n\u001b[0;32m      3\u001b[0m \u001b[1;33m\u001b[0m\u001b[0m\n\u001b[1;32m----> 4\u001b[1;33m     \u001b[0mrand\u001b[0m \u001b[1;33m=\u001b[0m \u001b[1;32mlambda\u001b[0m \u001b[0mv\u001b[0m\u001b[1;33m:\u001b[0m \u001b[0mmap\u001b[0m\u001b[1;33m(\u001b[0m\u001b[1;32mlambda\u001b[0m \u001b[0mz\u001b[0m\u001b[1;33m:\u001b[0m \u001b[0mrandom\u001b[0m\u001b[1;33m.\u001b[0m\u001b[0mchoice\u001b[0m\u001b[1;33m(\u001b[0m\u001b[1;33m[\u001b[0m\u001b[1;36m0\u001b[0m\u001b[1;33m,\u001b[0m\u001b[1;36m1\u001b[0m\u001b[1;33m]\u001b[0m\u001b[1;33m)\u001b[0m\u001b[1;33m,\u001b[0m \u001b[0mv\u001b[0m\u001b[1;33m)\u001b[0m\u001b[1;33m\u001b[0m\u001b[0m\n\u001b[0m\u001b[0;32m      5\u001b[0m     \u001b[0mx\u001b[0m  \u001b[1;33m=\u001b[0m \u001b[0mmap\u001b[0m\u001b[1;33m(\u001b[0m\u001b[0mrand\u001b[0m\u001b[1;33m,\u001b[0m \u001b[1;33m[\u001b[0m\u001b[0ml\u001b[0m\u001b[1;33m]\u001b[0m\u001b[1;33m*\u001b[0m\u001b[0mn\u001b[0m\u001b[1;33m)\u001b[0m\u001b[1;33m\u001b[0m\u001b[0m\n\u001b[0;32m      6\u001b[0m     \u001b[0my\u001b[0m  \u001b[1;33m=\u001b[0m \u001b[0mmap\u001b[0m\u001b[1;33m(\u001b[0m\u001b[0mrotL\u001b[0m\u001b[1;33m,\u001b[0m \u001b[0mx\u001b[0m\u001b[1;33m)\u001b[0m\u001b[1;33m\u001b[0m\u001b[0m\n",
      "\u001b[1;31mTypeError\u001b[0m: argument 2 to map() must support iteration"
     ]
    }
   ],
   "source": [
    "class NN:\n",
    "    def __init__(_,ll,lr=0.05):\n",
    "        _.ll = ll\n",
    "        _.lr = lr\n",
    "        _.fA  = np.vectorize(logsigmoid)\n",
    "        _.dfA = np.vectorize(dlogsigmoid)\n",
    "        _.W, _.B = _.genWB()\n",
    "        \n",
    "    def genWB(_):\n",
    "        W = [np.random.randn(n,m) for (n,m) in zip(_.ll[:-1], _.ll[1:])]\n",
    "        B = [np.random.randn(m)   for m     in _.ll[1:]]\n",
    "        \n",
    "        return W,B\n",
    "    \n",
    "    def ff(_,x):\n",
    "        V,VF = [None]*len(_.ll), [None]*len(_.ll)\n",
    "        V[0] = VF[0] = x\n",
    "        \n",
    "        for i in range(len(_.W)):\n",
    "            V[i+1]  = np.dot(np.transpose(_.W[i]), VF[i]) + _.B[i]\n",
    "            VF[i+1] = _.fA(V[i+1])\n",
    "        \n",
    "        return V,VF\n",
    "    \n",
    "    def ff(_,x):        \n",
    "        v = x\n",
    "        \n",
    "        for i in range(len(_.W)):\n",
    "            v  = _.fA(np.dot(np.transpose(_.W[i1]), v) + _.B[i])\n",
    "                    \n",
    "        return v\n",
    "    \n",
    "    \n",
    "    def fb(_, V, VF, Y):\n",
    "        G  = [None] * len(_.w)\n",
    "        GW = [None] * len(_.w)\n",
    "        \n",
    "        G[-1] = (VF[-1] - y)*_.dfA(V[-1])\n",
    "        \n",
    "        for i in range(len(_.W)-2, -1, -1):            \n",
    "            G[i] = np.multiply(np.dot(_.W[i+1], G[i+1]), _.dfA(V[i+1]))\n",
    "            \n",
    "        for i in range(len(_.W)-1, -1, -1):            \n",
    "            GW[i] = np.transpose( np.outer(G[i], VF[i]) )\n",
    "            \n",
    "        return GW, G\n",
    "    \n",
    "    def trainStep(_,x,y):\n",
    "        V,VF  = _.ff(x)\n",
    "        GW,Gb = _.fb(V,VF,y)\n",
    "        \n",
    "        _.W = _.W - np.multiply(GW, _.lr)\n",
    "        _.B = _.B - np.multiply(GB, _.lr)\n",
    "        \n",
    "        out = _.ff_pure(x)\n",
    "        \n",
    "        [e1,e2] = _.err(VF[-1], y), _.err(out, y)\n",
    "        return [e1, e2]\n",
    "    \n",
    "    @classmethod\n",
    "    def err(out,y):\n",
    "        return math.sqrt(sum((out - y)** 2))\n",
    "    \n",
    "    def train(_, data):\n",
    "        return [_.trainStep(x,y) for (x,y) in data]\n",
    "    \n",
    "    def test(_, data):\n",
    "        for (x,y) in data:\n",
    "            out = _.ff_pure(x)\n",
    "            err = _.err(out, y)\n",
    "            print \"x = {}, y = {}, out = {}, e = {}\".format(x,y,out,err)\n",
    "            \n",
    "layers = [[3,5,3], [3,4,3]]\n",
    "\n",
    "\n",
    "dat = genDat(10,3)\n",
    "\n",
    "for ll in layers:\n",
    "    print \"ll = {}\".format(ll)\n",
    "    nn = NN(ll)\n",
    "    nn.train(dat)\n",
    "    nn.test(dat[:5])"
   ]
  },
  {
   "cell_type": "code",
   "execution_count": null,
   "metadata": {
    "collapsed": true
   },
   "outputs": [],
   "source": []
  }
 ],
 "metadata": {
  "kernelspec": {
   "display_name": "Python 2",
   "language": "python",
   "name": "python2"
  },
  "language_info": {
   "codemirror_mode": {
    "name": "ipython",
    "version": 2
   },
   "file_extension": ".py",
   "mimetype": "text/x-python",
   "name": "python",
   "nbconvert_exporter": "python",
   "pygments_lexer": "ipython2",
   "version": "2.7.13"
  }
 },
 "nbformat": 4,
 "nbformat_minor": 2
}
