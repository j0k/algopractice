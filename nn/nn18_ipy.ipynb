{
 "cells": [
  {
   "cell_type": "code",
   "execution_count": 1,
   "metadata": {
    "collapsed": true
   },
   "outputs": [],
   "source": [
    "# start\n",
    "# 18:00\n",
    "# 18:39\n",
    "    \n",
    "    \n",
    "import random\n",
    "import numpy as np\n",
    "import math"
   ]
  },
  {
   "cell_type": "code",
   "execution_count": 10,
   "metadata": {
    "collapsed": true
   },
   "outputs": [],
   "source": [
    "def genDat(n,l):\n",
    "    rotL = lambda x: x[1:] + [x[0]]\n",
    "    \n",
    "    rand = lambda v: map(lambda z: random.choice([0,1]), [0]*v)\n",
    "    x  = map(rand, [l] * n)\n",
    "    y  = map(rotL, x)\n",
    "    \n",
    "    x = map(np.array, x)\n",
    "    y = map(np.array, y)\n",
    "    \n",
    "    return zip(x,y)   \n",
    "\n",
    "def logsigmoid(z):\n",
    "    return 1.0/(1 + math.exp(-z))\n",
    "\n",
    "def dlogsigmoid(z):\n",
    "    return logsigmoid(z)*(1 - logsigmoid(z))"
   ]
  },
  {
   "cell_type": "code",
   "execution_count": 24,
   "metadata": {},
   "outputs": [
    {
     "name": "stdout",
     "output_type": "stream",
     "text": [
      "ll = [3, 5, 3]\n",
      "x = [0 0 0], y = [0 0 0], out = [ 0.02428733  0.02490493  0.02725379], e = 0.0441916188129\n",
      "x = [1 0 1], y = [0 1 1], out = [ 0.02436384  0.97754815  0.99067265], e = 0.0344192014833\n",
      "x = [1 1 0], y = [1 0 1], out = [ 0.98476079  0.03079752  0.98245797], e = 0.0385803501124\n",
      "x = [1 1 0], y = [1 0 1], out = [ 0.98476079  0.03079752  0.98245797], e = 0.0385803501124\n",
      "x = [1 1 1], y = [1 1 1], out = [ 0.97203345  0.97586964  0.97480224], e = 0.0447138613573\n",
      "ll = [3, 4, 3]\n",
      "x = [0 0 0], y = [0 0 0], out = [ 0.02478079  0.01810799  0.01314677], e = 0.0333889835737\n",
      "x = [1 0 1], y = [0 1 1], out = [ 0.02324147  0.96968475  0.97528376], e = 0.0454980509889\n",
      "x = [1 1 0], y = [1 0 1], out = [ 0.98086338  0.02012407  0.96911163], e = 0.0415364842635\n",
      "x = [1 1 0], y = [1 0 1], out = [ 0.98086338  0.02012407  0.96911163], e = 0.0415364842635\n",
      "x = [1 1 1], y = [1 1 1], out = [ 0.97212614  0.98313059  0.98734398], e = 0.0349528796192\n"
     ]
    }
   ],
   "source": [
    "class NN:\n",
    "    def __init__(_,ll,lr=0.05):\n",
    "        _.ll = ll\n",
    "        _.lr = lr\n",
    "        _.fA  = np.vectorize(logsigmoid)\n",
    "        _.dfA = np.vectorize(dlogsigmoid)\n",
    "        _.W, _.B = _.genWB()\n",
    "        \n",
    "    def genWB(_):\n",
    "        W = [np.random.randn(n,m) for (n,m) in zip(_.ll[:-1], _.ll[1:])]\n",
    "        B = [np.random.randn(m)   for m     in _.ll[1:]]\n",
    "        \n",
    "        return W,B\n",
    "    \n",
    "    def ff(_,x):\n",
    "        V,VF = [None]*len(_.ll), [None]*len(_.ll)\n",
    "        V[0] = VF[0] = x\n",
    "        \n",
    "        for i in range(len(_.W)):\n",
    "            V[i+1]  = np.dot(np.transpose(_.W[i]), VF[i]) + _.B[i]\n",
    "            VF[i+1] = _.fA(V[i+1])\n",
    "        \n",
    "        return V,VF\n",
    "    \n",
    "    def ff_pure(_,x):        \n",
    "        v = x\n",
    "        \n",
    "        for i in range(len(_.W)):\n",
    "            v  = _.fA(np.dot(np.transpose(_.W[i]), v) + _.B[i])\n",
    "                    \n",
    "        return v\n",
    "    \n",
    "    \n",
    "    def fb(_, V, VF, y):\n",
    "        G  = [None] * len(_.W)\n",
    "        GW = [None] * len(_.W)\n",
    "        \n",
    "        G[-1] = (VF[-1] - y)*_.dfA(V[-1])\n",
    "        \n",
    "        for i in range(len(_.W)-2, -1, -1):            \n",
    "            G[i] = np.multiply(np.dot(_.W[i+1], G[i+1]), _.dfA(V[i+1]))\n",
    "            \n",
    "        for i in range(len(_.W)-1, -1, -1):            \n",
    "            GW[i] = np.transpose( np.outer(G[i], VF[i]) )\n",
    "            \n",
    "        return GW, G\n",
    "    \n",
    "    def trainStep(_,x,y):\n",
    "        V,VF  = _.ff(x)\n",
    "        GW,GB = _.fb(V,VF,y)\n",
    "        \n",
    "        _.W = _.W - np.multiply(GW, _.lr)\n",
    "        _.B = _.B - np.multiply(GB, _.lr)\n",
    "        \n",
    "        out = _.ff_pure(x)\n",
    "        \n",
    "        [e1,e2] = _.err(VF[-1], y), _.err(out, y)\n",
    "        return [e1, e2]\n",
    "    \n",
    "    @classmethod\n",
    "    def err(cls, out,y):\n",
    "        return math.sqrt(sum((out - y)** 2))\n",
    "    \n",
    "    def train(_, data):\n",
    "        return [_.trainStep(x,y) for (x,y) in data]\n",
    "    \n",
    "    def test(_, data):\n",
    "        for (x,y) in data:\n",
    "            out = _.ff_pure(x)\n",
    "            err = _.err(out, y)\n",
    "            print \"x = {}, y = {}, out = {}, e = {}\".format(x,y,out,err)\n",
    "            \n",
    "layers = [[3,5,3], [3,4,3]]\n",
    "\n",
    "\n",
    "dat = genDat(100000,3)\n",
    "\n",
    "for ll in layers:\n",
    "    print \"ll = {}\".format(ll)\n",
    "    nn = NN(ll)\n",
    "    nn.train(dat)\n",
    "    nn.test(dat[:5])"
   ]
  },
  {
   "cell_type": "code",
   "execution_count": null,
   "metadata": {
    "collapsed": true
   },
   "outputs": [],
   "source": []
  }
 ],
 "metadata": {
  "kernelspec": {
   "display_name": "Python 2",
   "language": "python",
   "name": "python2"
  },
  "language_info": {
   "codemirror_mode": {
    "name": "ipython",
    "version": 2
   },
   "file_extension": ".py",
   "mimetype": "text/x-python",
   "name": "python",
   "nbconvert_exporter": "python",
   "pygments_lexer": "ipython2",
   "version": "2.7.13"
  }
 },
 "nbformat": 4,
 "nbformat_minor": 2
}
